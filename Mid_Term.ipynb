{
  "nbformat": 4,
  "nbformat_minor": 0,
  "metadata": {
    "colab": {
      "provenance": [],
      "authorship_tag": "ABX9TyNNQebR9U3Q8NmKbiRMzojk"
    },
    "kernelspec": {
      "name": "python3",
      "display_name": "Python 3"
    },
    "language_info": {
      "name": "python"
    }
  },
  "cells": [
    {
      "cell_type": "markdown",
      "source": [
        "Email Address : raiyanashrafi2003@gmail.com"
      ],
      "metadata": {
        "id": "J2NKqSUp1OIf"
      }
    },
    {
      "cell_type": "code",
      "source": [
        "# You must run this code and use that data set for all the questions\n",
        "import numpy as np\n",
        "import pandas as pd\n",
        "\n",
        "np.random.seed(42)\n",
        "\n",
        "ids = np.arange(1, 11)\n",
        "ages = np.random.randint(18, 60, 10)\n",
        "salaries = np.random.randint(30000, 90000, 10)\n",
        "departments = np.array([\"HR\", \"IT\", \"Finance\", \"IT\", \"HR\", \"Sales\", \"Finance\", \"IT\", \"Sales\", \"HR\"])\n",
        "\n",
        "DF = pd.DataFrame({\n",
        "\"id\": ids,\n",
        "\"age\": ages,\n",
        "\"salary\": salaries,\n",
        "\"dept\": departments\n",
        "})\n",
        "\n",
        "DF.to_csv(\"employees.csv\", index=False)\n",
        "print(\"Sample Data Created and Saved as employees.csv\")\n"
      ],
      "metadata": {
        "colab": {
          "base_uri": "https://localhost:8080/"
        },
        "id": "LVs-f6TW1fqK",
        "outputId": "6789e3ff-c5af-4e78-9577-e75f4b25d782"
      },
      "execution_count": 1,
      "outputs": [
        {
          "output_type": "stream",
          "name": "stdout",
          "text": [
            "Sample Data Created and Saved as employees.csv\n"
          ]
        }
      ]
    },
    {
      "cell_type": "markdown",
      "source": [
        "## **Answer to the Question no : 01**"
      ],
      "metadata": {
        "id": "x0l3iNvN3rhm"
      }
    },
    {
      "cell_type": "code",
      "source": [
        "age_array = np.array(ages)\n",
        "salaries_array = np.array(salaries)\n",
        "print(age_array.dtype, age_array.ndim , age_array.shape, age_array.size)\n",
        "print(salaries_array.dtype, salaries_array.ndim , salaries_array.shape, salaries_array.size)"
      ],
      "metadata": {
        "colab": {
          "base_uri": "https://localhost:8080/"
        },
        "id": "nUDvsk_730u0",
        "outputId": "db0d5af9-abf5-4d86-9c14-4bef6c33b9b1"
      },
      "execution_count": 5,
      "outputs": [
        {
          "output_type": "stream",
          "name": "stdout",
          "text": [
            "int64 1 (10,) 10\n",
            "int64 1 (10,) 10\n"
          ]
        }
      ]
    },
    {
      "cell_type": "markdown",
      "source": [
        "## **Answer to the Question no : 02**"
      ],
      "metadata": {
        "id": "2UR0JQdtV4kL"
      }
    },
    {
      "cell_type": "code",
      "source": [
        "print(\"Highest Salary : \", np.max(salaries_array))\n",
        "print(\"Lowest Salary : \" , np.min(salaries_array))\n",
        "print(\"Average Salary : \" , np.mean(salaries_array))\n",
        "print(\"Average Age : \" , np.mean(age_array))"
      ],
      "metadata": {
        "colab": {
          "base_uri": "https://localhost:8080/"
        },
        "id": "8Ud0TlvrWA96",
        "outputId": "8137c75f-88e9-4d1b-e729-d19dd90d82f8"
      },
      "execution_count": 6,
      "outputs": [
        {
          "output_type": "stream",
          "name": "stdout",
          "text": [
            "Highest Salary :  89735\n",
            "Lowest Salary :  30769\n",
            "Average Salary :  57446.9\n",
            "Average Age :  38.5\n"
          ]
        }
      ]
    },
    {
      "cell_type": "markdown",
      "source": [
        "## **Answer to the Question no : 03**"
      ],
      "metadata": {
        "id": "eLPXUTd1Y_pT"
      }
    },
    {
      "cell_type": "code",
      "source": [
        "age_over_30 = age_array[age_array>30]\n",
        "print(\"Ages greater than 30 : \" , age_over_30)\n",
        "print(\"Number of people over 30 : \" , len(age_over_30))"
      ],
      "metadata": {
        "colab": {
          "base_uri": "https://localhost:8080/"
        },
        "id": "FFYNMLq3ZNdX",
        "outputId": "393129b2-f34b-40b7-9e81-93a7160f5c32"
      },
      "execution_count": 7,
      "outputs": [
        {
          "output_type": "stream",
          "name": "stdout",
          "text": [
            "Ages greater than 30 :  [56 46 32 38 56 36 40]\n",
            "Number of people over 30 :  7\n"
          ]
        }
      ]
    },
    {
      "cell_type": "markdown",
      "source": [
        "## **Answer to the Question no : 04**"
      ],
      "metadata": {
        "id": "PTPrcHa6aW45"
      }
    },
    {
      "cell_type": "code",
      "source": [
        "new_age = age_array + 5\n",
        "print(\"Updated Age : \" , new_age)"
      ],
      "metadata": {
        "colab": {
          "base_uri": "https://localhost:8080/"
        },
        "id": "eOKcm2sRahqw",
        "outputId": "9c1180f4-c308-44c3-a958-997685722daf"
      },
      "execution_count": 8,
      "outputs": [
        {
          "output_type": "stream",
          "name": "stdout",
          "text": [
            "Updated Age :  [61 51 37 30 43 61 41 45 33 33]\n"
          ]
        }
      ]
    },
    {
      "cell_type": "markdown",
      "source": [
        "## **Answer to the Question no : 05**"
      ],
      "metadata": {
        "id": "9zQg-Tcma1DH"
      }
    },
    {
      "cell_type": "code",
      "source": [
        "print(\"Total Salary Expense : \" , np.sum(salaries_array))\n",
        "print(\"Difference : \" , np.max(salaries_array) - np.min(salaries_array))\n"
      ],
      "metadata": {
        "colab": {
          "base_uri": "https://localhost:8080/"
        },
        "id": "Lhaj10eCa5i4",
        "outputId": "146f602d-43d4-457f-e02b-096ebf49395a"
      },
      "execution_count": 9,
      "outputs": [
        {
          "output_type": "stream",
          "name": "stdout",
          "text": [
            "Total Salary Expense :  574469\n",
            "Difference :  58966\n"
          ]
        }
      ]
    },
    {
      "cell_type": "markdown",
      "source": [
        "## **Answer to the Question no : 06**"
      ],
      "metadata": {
        "id": "RKM3mOyCbEO_"
      }
    },
    {
      "cell_type": "code",
      "source": [
        "df = pd.read_csv(\"employees.csv\")\n",
        "print(df.head())\n",
        "print(df.info())\n",
        "print(df.describe())"
      ],
      "metadata": {
        "colab": {
          "base_uri": "https://localhost:8080/"
        },
        "id": "s3deozcOcBbI",
        "outputId": "1ae558ce-93f6-4618-e6d1-351e963da031"
      },
      "execution_count": 11,
      "outputs": [
        {
          "output_type": "stream",
          "name": "stdout",
          "text": [
            "   id  age  salary     dept\n",
            "0   1   56   77191       HR\n",
            "1   2   46   74131       IT\n",
            "2   3   32   46023  Finance\n",
            "3   4   25   71090       IT\n",
            "4   5   38   31685       HR\n",
            "<class 'pandas.core.frame.DataFrame'>\n",
            "RangeIndex: 10 entries, 0 to 9\n",
            "Data columns (total 4 columns):\n",
            " #   Column  Non-Null Count  Dtype \n",
            "---  ------  --------------  ----- \n",
            " 0   id      10 non-null     int64 \n",
            " 1   age     10 non-null     int64 \n",
            " 2   salary  10 non-null     int64 \n",
            " 3   dept    10 non-null     object\n",
            "dtypes: int64(3), object(1)\n",
            "memory usage: 452.0+ bytes\n",
            "None\n",
            "             id       age        salary\n",
            "count  10.00000  10.00000     10.000000\n",
            "mean    5.50000  38.50000  57446.900000\n",
            "std     3.02765  11.16791  24357.262884\n",
            "min     1.00000  25.00000  30769.000000\n",
            "25%     3.25000  29.00000  33152.500000\n",
            "50%     5.50000  37.00000  58556.500000\n",
            "75%     7.75000  44.50000  76426.000000\n",
            "max    10.00000  56.00000  89735.000000\n"
          ]
        }
      ]
    },
    {
      "cell_type": "markdown",
      "source": [
        "## **Answer to the Question no : 07**"
      ],
      "metadata": {
        "id": "su9MvDPwckF_"
      }
    },
    {
      "cell_type": "code",
      "source": [
        "print(df[[\"id\", \"age\", \"salary\"]].tail(3))"
      ],
      "metadata": {
        "colab": {
          "base_uri": "https://localhost:8080/"
        },
        "id": "oWvpEkDPwL7V",
        "outputId": "64b9ce4b-050b-4aa0-abfb-24456e108a88"
      },
      "execution_count": 12,
      "outputs": [
        {
          "output_type": "stream",
          "name": "stdout",
          "text": [
            "   id  age  salary\n",
            "7   8   40   86101\n",
            "8   9   28   32433\n",
            "9  10   28   35311\n"
          ]
        }
      ]
    },
    {
      "cell_type": "markdown",
      "source": [
        "## **Answer to the Question no : 08**"
      ],
      "metadata": {
        "id": "U5uJKmeM_JTt"
      }
    },
    {
      "cell_type": "code",
      "source": [
        "it_employees = df[df[\"dept\"] == \"IT\"]\n",
        "print(it_employees)\n",
        "print()\n",
        "print(\"Total IT Employees:\", len(it_employees))"
      ],
      "metadata": {
        "colab": {
          "base_uri": "https://localhost:8080/"
        },
        "id": "ztHNCC8W_XNZ",
        "outputId": "f04ab77f-17ac-43e7-c660-59e5ad8b0b93"
      },
      "execution_count": 17,
      "outputs": [
        {
          "output_type": "stream",
          "name": "stdout",
          "text": [
            "   id  age  salary dept\n",
            "1   2   46   74131   IT\n",
            "3   4   25   71090   IT\n",
            "7   8   40   86101   IT\n",
            "\n",
            "Total IT Employees: 3\n"
          ]
        }
      ]
    },
    {
      "cell_type": "markdown",
      "source": [
        "## **Answer to the Question no : 09**"
      ],
      "metadata": {
        "id": "E0lTsgdj_s7i"
      }
    },
    {
      "cell_type": "code",
      "source": [
        "top_3 = df.sort_values( \"salary\", ascending=False).head(3)\n",
        "print(top_3[[\"id\", \"dept\", \"age\", \"salary\"]])\n"
      ],
      "metadata": {
        "colab": {
          "base_uri": "https://localhost:8080/"
        },
        "id": "JLCex1zT_xz4",
        "outputId": "b290f428-263e-4d08-8bc4-5df6c6e8e87d"
      },
      "execution_count": 19,
      "outputs": [
        {
          "output_type": "stream",
          "name": "stdout",
          "text": [
            "   id     dept  age  salary\n",
            "6   7  Finance   36   89735\n",
            "7   8       IT   40   86101\n",
            "0   1       HR   56   77191\n"
          ]
        }
      ]
    },
    {
      "cell_type": "markdown",
      "source": [
        "## **Answer to the Question no : 10**"
      ],
      "metadata": {
        "id": "mJrCb_MXCsBp"
      }
    },
    {
      "cell_type": "code",
      "source": [
        "df.loc[df[\"salary\"] > 80000, \"salary\"] = 80000\n",
        "print(df)\n",
        "print()\n",
        "print(\"Updated Average Salary:\", df[\"salary\"].mean())\n"
      ],
      "metadata": {
        "colab": {
          "base_uri": "https://localhost:8080/"
        },
        "id": "kPC2tn5nCw7e",
        "outputId": "8c35edf2-b1d0-41cf-9a63-3797a5219bfc"
      },
      "execution_count": 22,
      "outputs": [
        {
          "output_type": "stream",
          "name": "stdout",
          "text": [
            "   id  age  salary     dept\n",
            "0   1   56   77191       HR\n",
            "1   2   46   74131       IT\n",
            "2   3   32   46023  Finance\n",
            "3   4   25   71090       IT\n",
            "4   5   38   31685       HR\n",
            "5   6   56   30769    Sales\n",
            "6   7   36   80000  Finance\n",
            "7   8   40   80000       IT\n",
            "8   9   28   32433    Sales\n",
            "9  10   28   35311       HR\n",
            "\n",
            "Updated Average Salary: 55863.3\n"
          ]
        }
      ]
    }
  ]
}