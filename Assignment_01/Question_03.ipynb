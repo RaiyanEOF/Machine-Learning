class Shape :

  def area(self) :
    return 0

class Rectangle(Shape) :
  def __init__(self, l, w) :
    self.l = l
    self.w = w

  def area(self) :
    return self.l * self.w

class Circle(Shape) :
  def __init__(self, r) :
    self.r = r

  def area(self) :
    return 3.14 * self.r * self.r

test = input().split()
shape_type = test[0]

if shape_type == "Rectangle" :
  w = float(test[1])
  l = float(test[2])
  shape = Rectangle(w,l)

elif shape_type == "Circle" :
  r = float(test[1])
  shape = Circle(r)

else :
  shape = Shape()

print(f"Area: {shape.area():.2f}")
