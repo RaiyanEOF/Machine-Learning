str = input()
nums = list(map(int,str.split()))
even_nums = list(filter(lambda x : x%2==0, nums))
print(even_nums)
