import math
num = int(input())
begin = num
sum_of_fact = 0
while num > 0:
    digit = num % 10
    sum_of_fact += math.factorial(digit)
    num //= 10
if sum_of_fact == begin:
    print("Strong Number")
else:
    print("Not Strong Number")
