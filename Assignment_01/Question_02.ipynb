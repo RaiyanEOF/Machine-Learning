def safe_divide(a,b) :
  try :
    result = a/b
    print(result)
  except ZeroDivisionError:
    print("Division by zero")

a, b = map(int, input().split())
safe_divide(a,b)
