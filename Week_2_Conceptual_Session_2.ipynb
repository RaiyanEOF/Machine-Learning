{
  "nbformat": 4,
  "nbformat_minor": 0,
  "metadata": {
    "colab": {
      "provenance": [],
      "toc_visible": true,
      "include_colab_link": true
    },
    "kernelspec": {
      "name": "python3",
      "display_name": "Python 3"
    },
    "language_info": {
      "name": "python"
    }
  },
  "cells": [
    {
      "cell_type": "markdown",
      "metadata": {
        "id": "view-in-github",
        "colab_type": "text"
      },
      "source": [
        "<a href=\"https://colab.research.google.com/github/RaiyanEOF/Machine-Learning/blob/main/Week_2_Conceptual_Session_2.ipynb\" target=\"_parent\"><img src=\"https://colab.research.google.com/assets/colab-badge.svg\" alt=\"Open In Colab\"/></a>"
      ]
    },
    {
      "cell_type": "markdown",
      "source": [
        "# **Class, object and instance**"
      ],
      "metadata": {
        "id": "4fW7-bmaJ7mV"
      }
    },
    {
      "cell_type": "code",
      "source": [
        "class Dog():\n",
        "  pass\n",
        "\n",
        "dog1 = Dog()\n",
        "\n",
        "dir(dog1)"
      ],
      "metadata": {
        "colab": {
          "base_uri": "https://localhost:8080/"
        },
        "id": "-AgmEX32MBC1",
        "outputId": "d5d7c5cf-9fc1-454f-d10b-26a2a200929e"
      },
      "execution_count": null,
      "outputs": [
        {
          "output_type": "execute_result",
          "data": {
            "text/plain": [
              "['__class__',\n",
              " '__delattr__',\n",
              " '__dict__',\n",
              " '__dir__',\n",
              " '__doc__',\n",
              " '__eq__',\n",
              " '__format__',\n",
              " '__ge__',\n",
              " '__getattribute__',\n",
              " '__getstate__',\n",
              " '__gt__',\n",
              " '__hash__',\n",
              " '__init__',\n",
              " '__init_subclass__',\n",
              " '__le__',\n",
              " '__lt__',\n",
              " '__module__',\n",
              " '__ne__',\n",
              " '__new__',\n",
              " '__reduce__',\n",
              " '__reduce_ex__',\n",
              " '__repr__',\n",
              " '__setattr__',\n",
              " '__sizeof__',\n",
              " '__str__',\n",
              " '__subclasshook__',\n",
              " '__weakref__']"
            ]
          },
          "metadata": {},
          "execution_count": 2
        }
      ]
    },
    {
      "cell_type": "code",
      "source": [
        "class Dog():\n",
        "  pass\n",
        "\n",
        "dog1 = Dog()\n",
        "dog1.name = \"ABC\"\n",
        "dog1.age = 20\n",
        "print(dog1.name)\n",
        "print(dog1.age)"
      ],
      "metadata": {
        "colab": {
          "base_uri": "https://localhost:8080/"
        },
        "id": "ZI8DipxeNiU2",
        "outputId": "457aaa07-c10f-486a-cbde-6c628d19eca7"
      },
      "execution_count": null,
      "outputs": [
        {
          "output_type": "stream",
          "name": "stdout",
          "text": [
            "ABC\n",
            "20\n"
          ]
        }
      ]
    },
    {
      "cell_type": "code",
      "source": [
        "class Dog():\n",
        "  # constructor\n",
        "  def __init__(self):\n",
        "    print(\"hello constructor\")\n",
        "\n",
        "  def speak():\n",
        "    print(\"Dog speaking\")\n",
        "\n",
        "dog1 = Dog()"
      ],
      "metadata": {
        "colab": {
          "base_uri": "https://localhost:8080/"
        },
        "id": "eZRKkaaMSaFE",
        "outputId": "591bdf2e-200e-410b-a1aa-1367421c9022"
      },
      "execution_count": null,
      "outputs": [
        {
          "output_type": "stream",
          "name": "stdout",
          "text": [
            "hello constructor\n"
          ]
        }
      ]
    },
    {
      "cell_type": "code",
      "source": [
        "class Dog():\n",
        "  # constructor\n",
        "  def __init__(self, name, age):\n",
        "    self.name = name # instance attribute\n",
        "    self.age = age # instance attribute\n",
        "\n",
        "  def speak():\n",
        "    print(\"Dog speaking\")\n",
        "\n",
        "dog1 = Dog('ABC', 20)\n",
        "# print(dog1.name, dog1.age)\n",
        "dog2 = Dog('ABC2', 40)\n",
        "# print(dog2.name, dog2.age)\n",
        "\n",
        "print(dog1)\n",
        "print(dog2)"
      ],
      "metadata": {
        "colab": {
          "base_uri": "https://localhost:8080/"
        },
        "id": "iuK7JLvKNxUl",
        "outputId": "f8d47132-0394-4058-9a14-f458c5a5a423"
      },
      "execution_count": null,
      "outputs": [
        {
          "output_type": "stream",
          "name": "stdout",
          "text": [
            "<__main__.Dog object at 0x7c84875764b0>\n",
            "<__main__.Dog object at 0x7c84875ddca0>\n"
          ]
        }
      ]
    },
    {
      "cell_type": "code",
      "source": [
        "class Dog():\n",
        "  food = \"asdfsadf\" # class attribute\n",
        "  # constructor\n",
        "  def __init__(self, name, age):\n",
        "    self.name = name # instance attribute\n",
        "    self.age = age # instance attribute\n",
        "\n",
        "  def speak():\n",
        "    print(\"Dog speaking\")\n",
        "\n",
        "dog1 = Dog('ABC', 20)\n",
        "dog2 = Dog('ABC', 40)\n",
        "\n",
        "print(dog1.food)\n",
        "print(dog2.food)"
      ],
      "metadata": {
        "colab": {
          "base_uri": "https://localhost:8080/"
        },
        "id": "T-8zfpTOPNjB",
        "outputId": "888b1750-9093-4ce4-8014-e3ae4c384179"
      },
      "execution_count": null,
      "outputs": [
        {
          "output_type": "stream",
          "name": "stdout",
          "text": [
            "asdfsadf\n",
            "asdfsadf\n"
          ]
        }
      ]
    },
    {
      "cell_type": "code",
      "source": [
        "class Dog():\n",
        "  food = \"asdfsadf\" # class attribute\n",
        "\n",
        "  def __init__(self, name, age):\n",
        "    self.name = name # instance attribute\n",
        "    self.age = age # instance attribute\n",
        "\n",
        "\n",
        "  def speak(self):\n",
        "    print(\"Dog speaking\", {self.name}, {self.food})\n",
        "\n",
        "  # instance method\n",
        "  def work(self):\n",
        "    print(\"hello , dog \", {self.name}, {self.food})\n",
        "\n",
        "  @classmethod\n",
        "  def info(cls):\n",
        "    print(\"Food \", cls.age)\n",
        "\n",
        "dog1 = Dog('ABC', 20)\n",
        "\n",
        "dog1.info()"
      ],
      "metadata": {
        "colab": {
          "base_uri": "https://localhost:8080/",
          "height": 297
        },
        "id": "kM-exuvDP0GN",
        "outputId": "59799d08-baac-43b3-f52f-719ac4aee82b"
      },
      "execution_count": null,
      "outputs": [
        {
          "output_type": "error",
          "ename": "AttributeError",
          "evalue": "type object 'Dog' has no attribute 'age'",
          "traceback": [
            "\u001b[0;31m---------------------------------------------------------------------------\u001b[0m",
            "\u001b[0;31mAttributeError\u001b[0m                            Traceback (most recent call last)",
            "\u001b[0;32m/tmp/ipython-input-2132837374.py\u001b[0m in \u001b[0;36m<cell line: 0>\u001b[0;34m()\u001b[0m\n\u001b[1;32m     20\u001b[0m \u001b[0mdog1\u001b[0m \u001b[0;34m=\u001b[0m \u001b[0mDog\u001b[0m\u001b[0;34m(\u001b[0m\u001b[0;34m'ABC'\u001b[0m\u001b[0;34m,\u001b[0m \u001b[0;36m20\u001b[0m\u001b[0;34m)\u001b[0m\u001b[0;34m\u001b[0m\u001b[0;34m\u001b[0m\u001b[0m\n\u001b[1;32m     21\u001b[0m \u001b[0;34m\u001b[0m\u001b[0m\n\u001b[0;32m---> 22\u001b[0;31m \u001b[0mdog1\u001b[0m\u001b[0;34m.\u001b[0m\u001b[0minfo\u001b[0m\u001b[0;34m(\u001b[0m\u001b[0;34m)\u001b[0m\u001b[0;34m\u001b[0m\u001b[0;34m\u001b[0m\u001b[0m\n\u001b[0m",
            "\u001b[0;32m/tmp/ipython-input-2132837374.py\u001b[0m in \u001b[0;36minfo\u001b[0;34m(cls)\u001b[0m\n\u001b[1;32m     16\u001b[0m   \u001b[0;34m@\u001b[0m\u001b[0mclassmethod\u001b[0m\u001b[0;34m\u001b[0m\u001b[0;34m\u001b[0m\u001b[0m\n\u001b[1;32m     17\u001b[0m   \u001b[0;32mdef\u001b[0m \u001b[0minfo\u001b[0m\u001b[0;34m(\u001b[0m\u001b[0mcls\u001b[0m\u001b[0;34m)\u001b[0m\u001b[0;34m:\u001b[0m\u001b[0;34m\u001b[0m\u001b[0;34m\u001b[0m\u001b[0m\n\u001b[0;32m---> 18\u001b[0;31m     \u001b[0mprint\u001b[0m\u001b[0;34m(\u001b[0m\u001b[0;34m\"Food \"\u001b[0m\u001b[0;34m,\u001b[0m \u001b[0mcls\u001b[0m\u001b[0;34m.\u001b[0m\u001b[0mage\u001b[0m\u001b[0;34m)\u001b[0m\u001b[0;34m\u001b[0m\u001b[0;34m\u001b[0m\u001b[0m\n\u001b[0m\u001b[1;32m     19\u001b[0m \u001b[0;34m\u001b[0m\u001b[0m\n\u001b[1;32m     20\u001b[0m \u001b[0mdog1\u001b[0m \u001b[0;34m=\u001b[0m \u001b[0mDog\u001b[0m\u001b[0;34m(\u001b[0m\u001b[0;34m'ABC'\u001b[0m\u001b[0;34m,\u001b[0m \u001b[0;36m20\u001b[0m\u001b[0;34m)\u001b[0m\u001b[0;34m\u001b[0m\u001b[0;34m\u001b[0m\u001b[0m\n",
            "\u001b[0;31mAttributeError\u001b[0m: type object 'Dog' has no attribute 'age'"
          ]
        }
      ]
    },
    {
      "cell_type": "markdown",
      "source": [
        "# **Inheritance**"
      ],
      "metadata": {
        "id": "74ZDALJuJ95H"
      }
    },
    {
      "cell_type": "code",
      "source": [
        "## Inherit (single inheritance)\n",
        "## Parent Class / Base class / Super class\n",
        "class Car:\n",
        "  def __init__(self, windows, door, enginetype) -> None:\n",
        "     self.windows = windows\n",
        "     self.door = door\n",
        "     self.enginetype = enginetype\n",
        "\n",
        "\n",
        "  def drive(self):\n",
        "    print(f\"The person will drive the {self.enginetype} card\")"
      ],
      "metadata": {
        "id": "0_SliXUlSoPP"
      },
      "execution_count": null,
      "outputs": []
    },
    {
      "cell_type": "code",
      "source": [
        "## Derived / Child / subclass\n",
        "class Tesla(Car):\n",
        "  def __init__(self, windows, door, enginetype, is_selfDriving):\n",
        "    super().__init__(windows, door, enginetype)\n",
        "    self.is_selfDriving = is_selfDriving\n",
        "\n",
        "tesla1 = Tesla(4, 4, \"AB\", True)\n",
        "print(tesla1.windows)\n",
        "\n"
      ],
      "metadata": {
        "colab": {
          "base_uri": "https://localhost:8080/"
        },
        "id": "kNf-1hMSS04S",
        "outputId": "073cfb87-4982-4322-a72a-ce79c21f2c3a"
      },
      "execution_count": null,
      "outputs": [
        {
          "output_type": "stream",
          "name": "stdout",
          "text": [
            "4\n"
          ]
        }
      ]
    },
    {
      "cell_type": "code",
      "source": [
        "## Multiple Inheritance\n",
        "## When a class inherits from more than one base class\n",
        "\n",
        "## Base class 1\n",
        "class Animal:\n",
        "  def __init__(self, name) -> None:\n",
        "    self.name = name\n",
        "\n",
        "  def eat(self):\n",
        "    print(f\"{self.name} is eating from Animal Base Class\")\n",
        "\n",
        "## Base class 2\n",
        "class Pet:\n",
        "  def __init__(self, owner) -> None:\n",
        "     self.owner = owner\n",
        "\n",
        "\n",
        "# Derive class\n",
        "class Dog(Animal, Pet):\n",
        "  def __init__(self, name, owner) -> None:\n",
        "    Animal.__init__(self, name)\n",
        "    Pet.__init__(self, owner)\n",
        "\n",
        "\n",
        "dog1 = Dog(\"ABC\", \"DEF\")\n",
        "dir(dog1)\n"
      ],
      "metadata": {
        "colab": {
          "base_uri": "https://localhost:8080/"
        },
        "id": "FdTZhXb_UG5d",
        "outputId": "495b2636-4099-4a78-8c0d-616b6e47fa49"
      },
      "execution_count": null,
      "outputs": [
        {
          "output_type": "execute_result",
          "data": {
            "text/plain": [
              "['__class__',\n",
              " '__delattr__',\n",
              " '__dict__',\n",
              " '__dir__',\n",
              " '__doc__',\n",
              " '__eq__',\n",
              " '__format__',\n",
              " '__ge__',\n",
              " '__getattribute__',\n",
              " '__getstate__',\n",
              " '__gt__',\n",
              " '__hash__',\n",
              " '__init__',\n",
              " '__init_subclass__',\n",
              " '__le__',\n",
              " '__lt__',\n",
              " '__module__',\n",
              " '__ne__',\n",
              " '__new__',\n",
              " '__reduce__',\n",
              " '__reduce_ex__',\n",
              " '__repr__',\n",
              " '__setattr__',\n",
              " '__sizeof__',\n",
              " '__str__',\n",
              " '__subclasshook__',\n",
              " '__weakref__',\n",
              " 'eat',\n",
              " 'name',\n",
              " 'owner']"
            ]
          },
          "metadata": {},
          "execution_count": 40
        }
      ]
    },
    {
      "cell_type": "markdown",
      "source": [
        "# **Polymorphism**"
      ],
      "metadata": {
        "id": "ArzDleqAKT_k"
      }
    },
    {
      "cell_type": "code",
      "source": [
        "## Base Class\n",
        "class Animal:\n",
        "    def speak(self):\n",
        "        return \"Sound of the animal\"\n",
        "\n",
        "## Derived Class 1\n",
        "class Dog(Animal):\n",
        "    def speak(self):\n",
        "        return \"Woof!\"\n",
        "\n",
        "## Derived class 2\n",
        "class Cat(Animal):\n",
        "    def speak(self):\n",
        "        return \"Meow!\"\n",
        "\n",
        "cat1 = Cat()\n",
        "print(cat1.speak())\n",
        "dir(cat1)"
      ],
      "metadata": {
        "colab": {
          "base_uri": "https://localhost:8080/"
        },
        "id": "frts9wqjVt-A",
        "outputId": "637f208f-ec89-4625-bad3-da5ffd90c7a8"
      },
      "execution_count": null,
      "outputs": [
        {
          "output_type": "stream",
          "name": "stdout",
          "text": [
            "Meow!\n"
          ]
        },
        {
          "output_type": "execute_result",
          "data": {
            "text/plain": [
              "['__class__',\n",
              " '__delattr__',\n",
              " '__dict__',\n",
              " '__dir__',\n",
              " '__doc__',\n",
              " '__eq__',\n",
              " '__format__',\n",
              " '__ge__',\n",
              " '__getattribute__',\n",
              " '__getstate__',\n",
              " '__gt__',\n",
              " '__hash__',\n",
              " '__init__',\n",
              " '__init_subclass__',\n",
              " '__le__',\n",
              " '__lt__',\n",
              " '__module__',\n",
              " '__ne__',\n",
              " '__new__',\n",
              " '__reduce__',\n",
              " '__reduce_ex__',\n",
              " '__repr__',\n",
              " '__setattr__',\n",
              " '__sizeof__',\n",
              " '__str__',\n",
              " '__subclasshook__',\n",
              " '__weakref__',\n",
              " 'speak']"
            ]
          },
          "metadata": {},
          "execution_count": 46
        }
      ]
    },
    {
      "cell_type": "markdown",
      "source": [
        "# **Encapsulation**"
      ],
      "metadata": {
        "id": "npl1eUEiKZC-"
      }
    },
    {
      "cell_type": "code",
      "source": [
        "### Encapsulation  with Getter and Setter MEthods\n",
        "### Public,protected,private variables or access modifiers\n",
        "\n",
        "class Person:\n",
        "    def __init__(self,name,age, balance):\n",
        "        self.name=name    ## public variables\n",
        "        self.age=age      ## public variables\n",
        "        self.balance = balance\n",
        "\n",
        "\n",
        "def get_name(person):\n",
        "    return person.name\n",
        "\n",
        "person1 = Person(\"Rakib\", 20, 10000)\n",
        "print(person1.balance)\n",
        "\n",
        "person1.name"
      ],
      "metadata": {
        "colab": {
          "base_uri": "https://localhost:8080/",
          "height": 52
        },
        "id": "zL_oyWRvXJic",
        "outputId": "a4cbfb65-0a04-4991-b650-5a1250b95bd6"
      },
      "execution_count": null,
      "outputs": [
        {
          "output_type": "stream",
          "name": "stdout",
          "text": [
            "10000\n"
          ]
        },
        {
          "output_type": "execute_result",
          "data": {
            "text/plain": [
              "'Rakib'"
            ],
            "application/vnd.google.colaboratory.intrinsic+json": {
              "type": "string"
            }
          },
          "metadata": {},
          "execution_count": 48
        }
      ]
    },
    {
      "cell_type": "code",
      "source": [
        "# Getter and Setter MEthods\n",
        "class Person:\n",
        "    def __init__(self,name,age, balance):\n",
        "        self.name=name    ## public variables\n",
        "        self._age=age      ## protected variables -> Child class access\n",
        "        self.__balance = balance ## private -> only nijer class\n",
        "\n",
        "    def info(self):\n",
        "      print(\"Balance \", self.__balance)\n",
        "\n",
        "    def get_balance(self):\n",
        "        return self.__balance\n",
        "\n",
        "    def set_balance(self, money):\n",
        "        self.__balance += money\n",
        "\n",
        "# bayrer method\n",
        "def get_name(person):\n",
        "    return person.name\n",
        "\n",
        "person1 = Person(\"Rakib\", 20, 10000)\n",
        "person1.set_balance(500)\n",
        "print(person1.name)\n",
        "print(person1.get_balance())"
      ],
      "metadata": {
        "colab": {
          "base_uri": "https://localhost:8080/"
        },
        "id": "t14RMjYFX330",
        "outputId": "db18fdc7-b780-4da0-c917-cc744adb528a"
      },
      "execution_count": null,
      "outputs": [
        {
          "output_type": "stream",
          "name": "stdout",
          "text": [
            "Rakib\n",
            "10500\n"
          ]
        }
      ]
    },
    {
      "cell_type": "markdown",
      "source": [
        "# **Abstraction**"
      ],
      "metadata": {
        "id": "QwiRyUD0KZuV"
      }
    },
    {
      "cell_type": "code",
      "source": [
        "from abc import ABC, abstractmethod\n",
        "\n",
        "## Abstract base cclass\n",
        "class Vehicle(ABC):\n",
        "    def drive(self):\n",
        "        print(\"The vehicle is used for driving\")\n",
        "\n",
        "    @abstractmethod\n",
        "    def run(self):\n",
        "        pass\n",
        "\n",
        "\n",
        "\n",
        "class Car(Vehicle):\n",
        "  def info(self):\n",
        "    print(\"This is car\")\n",
        "\n",
        "  def start(self):\n",
        "    print(\"Starting car engine\")\n",
        "\n",
        "  def ac(self):\n",
        "    print(\"AC is started\")\n",
        "\n",
        "  def run(self):\n",
        "    self.info()\n",
        "    self.start()\n",
        "    self.ac()\n",
        "\n",
        "\n",
        "car1 = Car()\n",
        "car1.run() ## Run swich"
      ],
      "metadata": {
        "colab": {
          "base_uri": "https://localhost:8080/",
          "height": 193
        },
        "id": "RbU6tiUxaiUT",
        "outputId": "c409e352-37e1-4542-b0f4-2ae956fc6095"
      },
      "execution_count": null,
      "outputs": [
        {
          "output_type": "error",
          "ename": "TypeError",
          "evalue": "Can't instantiate abstract class Car without an implementation for abstract method 'run'",
          "traceback": [
            "\u001b[0;31m---------------------------------------------------------------------------\u001b[0m",
            "\u001b[0;31mTypeError\u001b[0m                                 Traceback (most recent call last)",
            "\u001b[0;32m/tmp/ipython-input-1730457667.py\u001b[0m in \u001b[0;36m<cell line: 0>\u001b[0;34m()\u001b[0m\n\u001b[1;32m     28\u001b[0m \u001b[0;34m\u001b[0m\u001b[0m\n\u001b[1;32m     29\u001b[0m \u001b[0;34m\u001b[0m\u001b[0m\n\u001b[0;32m---> 30\u001b[0;31m \u001b[0mcar1\u001b[0m \u001b[0;34m=\u001b[0m \u001b[0mCar\u001b[0m\u001b[0;34m(\u001b[0m\u001b[0;34m)\u001b[0m\u001b[0;34m\u001b[0m\u001b[0;34m\u001b[0m\u001b[0m\n\u001b[0m\u001b[1;32m     31\u001b[0m \u001b[0mcar1\u001b[0m\u001b[0;34m.\u001b[0m\u001b[0mrun\u001b[0m\u001b[0;34m(\u001b[0m\u001b[0;34m)\u001b[0m \u001b[0;31m## Run swich\u001b[0m\u001b[0;34m\u001b[0m\u001b[0;34m\u001b[0m\u001b[0m\n",
            "\u001b[0;31mTypeError\u001b[0m: Can't instantiate abstract class Car without an implementation for abstract method 'run'"
          ]
        }
      ]
    },
    {
      "cell_type": "markdown",
      "source": [
        "# **Mini Project**"
      ],
      "metadata": {
        "id": "_TCoBq5cKyLk"
      }
    },
    {
      "cell_type": "code",
      "source": [
        "from abc import ABC, abstractmethod\n",
        "\n",
        "# Abstraction\n",
        "class BankService(ABC):\n",
        "    @abstractmethod\n",
        "    def transaction(self):\n",
        "        pass\n",
        "\n",
        "\n",
        "class Account:\n",
        "    bank_name =\"Phitron Bank\"\n",
        "\n",
        "    def __init__(self, name, account_no, balance):\n",
        "        self.name = name\n",
        "        self.account_no = account_no\n",
        "        self.__balance = balance # Private Attribute\n",
        "\n",
        "    def get_balance(self):\n",
        "        return self.__balance\n",
        "\n",
        "\n",
        "    def deposite(self, money):\n",
        "        self.__balance += money\n",
        "        return f\"{money} is added, New Balance is: {self.__balance}\"\n",
        "\n",
        "    def withdraw(self, withdrawMoney):\n",
        "\n",
        "        if withdrawMoney > self.__balance:\n",
        "            return f\"Insufficient Balance\"\n",
        "        self.__balance -= withdrawMoney\n",
        "\n",
        "        return f\"{withdrawMoney} is Withdrawed, New Balance is: {self.__balance}\"\n",
        "\n",
        "\n",
        "class SavingAccount(Account):\n",
        "    def __init__(self, name, account_no, balance, interest_rate):\n",
        "        super().__init__(name, account_no, balance)\n",
        "        self.interest_rate = interest_rate\n",
        "\n",
        "    def calculate_interest_rate(self):\n",
        "        interest = self.get_balance() * self.interest_rate / 100\n",
        "        return f\"Interest rate is : {interest}\"\n",
        "\n",
        "class CurrentAccount(Account):\n",
        "    def __init__(self, name, account_no, balance, overlimit):\n",
        "        super().__init__(name, account_no, balance)\n",
        "        self.overlimit = overlimit\n",
        "\n",
        "    def withdraw(self, withdrawMoney):\n",
        "        if withdrawMoney > self.get_balance() + self.overlimit :\n",
        "            return f\"Insufficient Balance\"\n",
        "\n",
        "        balance = self.get_balance() - withdrawMoney\n",
        "\n",
        "        return f\"{withdrawMoney} is withdrawed , new balance is {balance}\"\n",
        "\n",
        "\n",
        "class ATM(BankService):\n",
        "    def transaction(self):\n",
        "        print(\"ATM Transaction: Cash Withdraw or Balance Check\")\n",
        "\n",
        "\n",
        "\n",
        "currentUser = CurrentAccount(\"Rakib\", 123, 1000,5000)\n",
        "# print(currentUser.get_balance())\n",
        "# print(currentUser.withdraw(3000))\n",
        "\n",
        "savingUSer = SavingAccount(\"Takib\", 133, 100,2)\n",
        "print(savingUSer.get_balance())\n",
        "print(savingUSer.calculate_interest_rate())\n",
        "\n",
        "atm = ATM()\n",
        "atm.transaction();"
      ],
      "metadata": {
        "colab": {
          "base_uri": "https://localhost:8080/"
        },
        "id": "5HXh9JWdjcUQ",
        "outputId": "c6314bf7-a371-4c82-b132-e73315b0b525"
      },
      "execution_count": null,
      "outputs": [
        {
          "output_type": "stream",
          "name": "stdout",
          "text": [
            "100\n",
            "Interest rate is : 2.0\n",
            "ATM Transaction: Cash Withdraw or Balance Check\n"
          ]
        }
      ]
    },
    {
      "cell_type": "code",
      "source": [
        "def fun():\n",
        "  return 10\n",
        "\n",
        "fun()"
      ],
      "metadata": {
        "colab": {
          "base_uri": "https://localhost:8080/"
        },
        "id": "p25cCYNNj9dm",
        "outputId": "8fa89dbe-743a-4518-9e22-28be90afab21"
      },
      "execution_count": null,
      "outputs": [
        {
          "output_type": "execute_result",
          "data": {
            "text/plain": [
              "10"
            ]
          },
          "metadata": {},
          "execution_count": 70
        }
      ]
    }
  ]
}